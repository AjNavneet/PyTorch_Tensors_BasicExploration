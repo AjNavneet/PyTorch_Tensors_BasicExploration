{
 "cells": [
  {
   "cell_type": "markdown",
   "metadata": {
    "id": "LOHJymgGfX7c"
   },
   "source": [
    "# PyTorch Tensors\n",
    "\n",
    "## Introduction\n",
    "\n",
    "In this document, we will explore PyTorch tensors, a fundamental concept in PyTorch, and their various attributes and operations. Tensors are at the core of PyTorch, serving as the foundation for many machine learning and deep learning applications.\n",
    "\n",
    "## Contents\n",
    "\n",
    "1. **Create Tensor**\n",
    "   - Learn how to create tensors in PyTorch to represent data.\n",
    "   \n",
    "2. **Tensor Attributes**\n",
    "   - Explore the attributes associated with PyTorch tensors, such as shape, data type, and device.\n",
    "\n",
    "3. **Arithmetic Operations**\n",
    "   - Understand how to perform basic arithmetic operations on tensors, including addition and subtraction.\n",
    "\n",
    "4. **Trigonometric Operations**\n",
    "   - Discover how to apply trigonometric functions to tensors in PyTorch.\n",
    "\n",
    "5. **Functions Using Tensors**\n",
    "   - Learn how to define and apply functions that involve tensors, enabling complex calculations.\n",
    "\n",
    "6. **Gradients**\n",
    "   - Explore the concept of gradients and how PyTorch computes derivatives of functions involving tensors.\n",
    "\n",
    "\n",
    "---\n"
   ]
  },
  {
   "cell_type": "markdown",
   "metadata": {
    "id": "ggyzMJRIioYv"
   },
   "source": [
    "### 0. Import required libraries and prepare data"
   ]
  },
  {
   "cell_type": "code",
   "execution_count": 65,
   "metadata": {},
   "outputs": [],
   "source": [
    "!pip install torch==1.10.1\n",
    "!pip install pandas==1.3.5"
   ]
  },
  {
   "cell_type": "code",
   "execution_count": 2,
   "metadata": {
    "executionInfo": {
     "elapsed": 5730,
     "status": "ok",
     "timestamp": 1639980133354,
     "user": {
      "displayName": "Naveen Deepak",
      "photoUrl": "https://lh3.googleusercontent.com/a/default-user=s64",
      "userId": "01554849417447253869"
     },
     "user_tz": -330
    },
    "id": "-E4sMwTWiijU",
    "scrolled": true
   },
   "outputs": [],
   "source": [
    "import torch\n",
    "import pandas as pd"
   ]
  },
  {
   "cell_type": "markdown",
   "metadata": {
    "id": "OL3qE3D178UI"
   },
   "source": [
    "### 1. Create tensors"
   ]
  },
  {
   "cell_type": "markdown",
   "metadata": {
    "id": "q8Ml8P39Z_RO"
   },
   "source": [
    "#### 1-D tensor"
   ]
  },
  {
   "cell_type": "code",
   "execution_count": 67,
   "metadata": {
    "colab": {
     "base_uri": "https://localhost:8080/"
    },
    "executionInfo": {
     "elapsed": 65,
     "status": "ok",
     "timestamp": 1639980151611,
     "user": {
      "displayName": "Naveen Deepak",
      "photoUrl": "https://lh3.googleusercontent.com/a/default-user=s64",
      "userId": "01554849417447253869"
     },
     "user_tz": -330
    },
    "id": "EJv-Nx5qj1Xl",
    "outputId": "5dea5041-d9cb-4b73-9e0c-c255e1113153"
   },
   "outputs": [
    {
     "name": "stdout",
     "output_type": "stream",
     "text": [
      "tensor([1, 2, 3])\n"
     ]
    }
   ],
   "source": [
    "# Create a one-dimensional tensor\n",
    "x_list = [1, 2, 3]\n",
    "x = torch.tensor(x_list)\n",
    "print(x)\n"
   ]
  },
  {
   "cell_type": "markdown",
   "metadata": {
    "id": "yF9LgTpoaOCd"
   },
   "source": [
    "#### Attributes of a tensor"
   ]
  },
  {
   "cell_type": "code",
   "execution_count": 68,
   "metadata": {
    "colab": {
     "base_uri": "https://localhost:8080/"
    },
    "executionInfo": {
     "elapsed": 58,
     "status": "ok",
     "timestamp": 1639980151612,
     "user": {
      "displayName": "Naveen Deepak",
      "photoUrl": "https://lh3.googleusercontent.com/a/default-user=s64",
      "userId": "01554849417447253869"
     },
     "user_tz": -330
    },
    "id": "AlO2xukJZ3YN",
    "outputId": "60396b0c-1bdb-4106-a4c3-b55fb9c0b2ff"
   },
   "outputs": [
    {
     "name": "stdout",
     "output_type": "stream",
     "text": [
      "tenosr shape:  torch.Size([3])\n"
     ]
    }
   ],
   "source": [
    "# Print the shape of the tensor\n",
    "print('tensor shape: ', x.shape)\n"
   ]
  },
  {
   "cell_type": "code",
   "execution_count": 69,
   "metadata": {
    "colab": {
     "base_uri": "https://localhost:8080/"
    },
    "executionInfo": {
     "elapsed": 50,
     "status": "ok",
     "timestamp": 1639980151612,
     "user": {
      "displayName": "Naveen Deepak",
      "photoUrl": "https://lh3.googleusercontent.com/a/default-user=s64",
      "userId": "01554849417447253869"
     },
     "user_tz": -330
    },
    "id": "lHDnzGVUaaLe",
    "outputId": "6ab7a043-dabb-45a4-f897-66d2d97864fb"
   },
   "outputs": [
    {
     "name": "stdout",
     "output_type": "stream",
     "text": [
      "tensor data type:  torch.int64\n"
     ]
    }
   ],
   "source": [
    "# Print the data type of the tensor\n",
    "print('tensor data type: ', x.dtype)\n"
   ]
  },
  {
   "cell_type": "code",
   "execution_count": 70,
   "metadata": {
    "colab": {
     "base_uri": "https://localhost:8080/"
    },
    "executionInfo": {
     "elapsed": 43,
     "status": "ok",
     "timestamp": 1639980151613,
     "user": {
      "displayName": "Naveen Deepak",
      "photoUrl": "https://lh3.googleusercontent.com/a/default-user=s64",
      "userId": "01554849417447253869"
     },
     "user_tz": -330
    },
    "id": "AwvUzgvFaddO",
    "outputId": "3fa11a24-9a87-43a7-e803-87be660b0626"
   },
   "outputs": [
    {
     "name": "stdout",
     "output_type": "stream",
     "text": [
      "tensor operations on device:  cpu\n"
     ]
    }
   ],
   "source": [
    "# Print the device for tensor operations\n",
    "print('tensor operations on device: ', x.device)\n"
   ]
  },
  {
   "cell_type": "markdown",
   "metadata": {
    "id": "jtkEJOPWavpR"
   },
   "source": [
    "#### 2-D tensor (also called matrix)"
   ]
  },
  {
   "cell_type": "code",
   "execution_count": 71,
   "metadata": {
    "colab": {
     "base_uri": "https://localhost:8080/"
    },
    "executionInfo": {
     "elapsed": 36,
     "status": "ok",
     "timestamp": 1639980151613,
     "user": {
      "displayName": "Naveen Deepak",
      "photoUrl": "https://lh3.googleusercontent.com/a/default-user=s64",
      "userId": "01554849417447253869"
     },
     "user_tz": -330
    },
    "id": "pTSODeAwaj5V",
    "outputId": "240cf3bb-f205-47ce-8de9-3afdd930026f"
   },
   "outputs": [
    {
     "name": "stdout",
     "output_type": "stream",
     "text": [
      "tenosr shape:  torch.Size([2, 3])\n",
      "tensor data type:  torch.int64\n",
      "tensor operations on device:  cpu\n"
     ]
    }
   ],
   "source": [
    "# Create a two-dimensional tensor\n",
    "x_list = [[1, 2, 3], [4, 5, 6]]\n",
    "x = torch.tensor(x_list)\n",
    "\n",
    "# Tensor attributes\n",
    "# Shape\n",
    "print('tensor shape: ', x.shape)\n",
    "# Data type\n",
    "print('tensor data type: ', x.dtype)\n",
    "# Device for operations\n",
    "print('tensor operations on device: ', x.device)\n"
   ]
  },
  {
   "cell_type": "markdown",
   "metadata": {
    "id": "JuQxbIvybFHL"
   },
   "source": [
    "#### 3-D Tensor"
   ]
  },
  {
   "cell_type": "code",
   "execution_count": 72,
   "metadata": {
    "colab": {
     "base_uri": "https://localhost:8080/"
    },
    "executionInfo": {
     "elapsed": 30,
     "status": "ok",
     "timestamp": 1639980151614,
     "user": {
      "displayName": "Naveen Deepak",
      "photoUrl": "https://lh3.googleusercontent.com/a/default-user=s64",
      "userId": "01554849417447253869"
     },
     "user_tz": -330
    },
    "id": "xz6NK2X8bDXI",
    "outputId": "c0de282d-82b7-4d93-9deb-cdf815f63342"
   },
   "outputs": [
    {
     "name": "stdout",
     "output_type": "stream",
     "text": [
      "tenosr shape:  torch.Size([3, 2, 1])\n",
      "tensor data type:  torch.int64\n",
      "tensor operations on device:  cpu\n"
     ]
    }
   ],
   "source": [
    "# Create a three-dimensional tensor\n",
    "x_list = [[[1], [2]], [[3], [4]], [[5], [6]]]\n",
    "x = torch.tensor(x_list)\n",
    "\n",
    "# Tensor attributes\n",
    "# Shape\n",
    "print('tensor shape: ', x.shape)\n",
    "# Data type\n",
    "print('tensor data type: ', x.dtype)\n",
    "# Device for operations\n",
    "print('tensor operations on device: ', x.device)\n"
   ]
  },
  {
   "cell_type": "markdown",
   "metadata": {
    "id": "VnsjuXbDUjNG"
   },
   "source": [
    "#### empty tensor"
   ]
  },
  {
   "cell_type": "code",
   "execution_count": 73,
   "metadata": {
    "colab": {
     "base_uri": "https://localhost:8080/"
    },
    "executionInfo": {
     "elapsed": 25,
     "status": "ok",
     "timestamp": 1639980151615,
     "user": {
      "displayName": "Naveen Deepak",
      "photoUrl": "https://lh3.googleusercontent.com/a/default-user=s64",
      "userId": "01554849417447253869"
     },
     "user_tz": -330
    },
    "id": "xH3i1xIbj787",
    "outputId": "5e6efbcc-86d6-4cc9-d68f-d7e208afdcc8"
   },
   "outputs": [
    {
     "name": "stdout",
     "output_type": "stream",
     "text": [
      "empty tensor \n",
      " tensor([1., 1., 1., 1., 1., 1.])\n"
     ]
    }
   ],
   "source": [
    "# Create an empty tensor with all ones\n",
    "x = torch.ones((6))\n",
    "print('empty tensor \\n', x)\n"
   ]
  },
  {
   "cell_type": "code",
   "execution_count": 74,
   "metadata": {
    "colab": {
     "base_uri": "https://localhost:8080/"
    },
    "executionInfo": {
     "elapsed": 387,
     "status": "ok",
     "timestamp": 1639980151983,
     "user": {
      "displayName": "Naveen Deepak",
      "photoUrl": "https://lh3.googleusercontent.com/a/default-user=s64",
      "userId": "01554849417447253869"
     },
     "user_tz": -330
    },
    "id": "9M4_lnPZXYE8",
    "outputId": "e9da27f9-b4fd-47f6-e56d-189fdfdc7541"
   },
   "outputs": [
    {
     "name": "stdout",
     "output_type": "stream",
     "text": [
      "modified tensor \n",
      " tensor([4., 4., 4., 4., 4., 4.])\n"
     ]
    }
   ],
   "source": [
    "# Modify the tensor by adding 3 to each element through indexing and assignment\n",
    "for i in range(6):\n",
    "    x[i] = x[i] + 3\n",
    "\n",
    "print('modified tensor \\n', x)\n"
   ]
  },
  {
   "cell_type": "markdown",
   "metadata": {
    "id": "zz0cACVFUX9M"
   },
   "source": [
    "## Creating tensors from Dataset"
   ]
  },
  {
   "cell_type": "code",
   "execution_count": 3,
   "metadata": {
    "colab": {
     "base_uri": "https://localhost:8080/"
    },
    "executionInfo": {
     "elapsed": 419,
     "status": "ok",
     "timestamp": 1639980152398,
     "user": {
      "displayName": "Naveen Deepak",
      "photoUrl": "https://lh3.googleusercontent.com/a/default-user=s64",
      "userId": "01554849417447253869"
     },
     "user_tz": -330
    },
    "id": "Y7gXBzpD2jkS",
    "outputId": "2e58374c-f971-436c-bad4-969c2ca85184"
   },
   "outputs": [
    {
     "name": "stdout",
     "output_type": "stream",
     "text": [
      "The dataset has 16 attributes : \n",
      " ['year' 'customer_id' 'phone_no' 'gender' 'age' 'no_of_days_subscribed'\n",
      " 'multi_screen' 'mail_subscribed' 'weekly_mins_watched'\n",
      " 'minimum_daily_mins' 'maximum_daily_mins' 'weekly_max_night_mins'\n",
      " 'videos_watched' 'maximum_days_inactive' 'customer_support_calls' 'churn']\n"
     ]
    }
   ],
   "source": [
    "# Convert features of a dataset into a tensor\n",
    "data_path = \"../Input\"\n",
    "\n",
    "# Read the dataset stored as a CSV using pandas\n",
    "file_path = data_path + '/churn_data.csv'\n",
    "\n",
    "# Read the CSV file\n",
    "df = pd.read_csv(file_path)\n",
    "\n",
    "# Features of the dataset\n",
    "columns_names = df.columns.values\n",
    "print('The dataset has {} attributes : \\n {}'.format(len(columns_names), columns_names))\n"
   ]
  },
  {
   "cell_type": "code",
   "execution_count": 4,
   "metadata": {},
   "outputs": [
    {
     "data": {
      "text/html": [
       "<div>\n",
       "<style scoped>\n",
       "    .dataframe tbody tr th:only-of-type {\n",
       "        vertical-align: middle;\n",
       "    }\n",
       "\n",
       "    .dataframe tbody tr th {\n",
       "        vertical-align: top;\n",
       "    }\n",
       "\n",
       "    .dataframe thead th {\n",
       "        text-align: right;\n",
       "    }\n",
       "</style>\n",
       "<table border=\"1\" class=\"dataframe\">\n",
       "  <thead>\n",
       "    <tr style=\"text-align: right;\">\n",
       "      <th></th>\n",
       "      <th>year</th>\n",
       "      <th>customer_id</th>\n",
       "      <th>phone_no</th>\n",
       "      <th>gender</th>\n",
       "      <th>age</th>\n",
       "      <th>no_of_days_subscribed</th>\n",
       "      <th>multi_screen</th>\n",
       "      <th>mail_subscribed</th>\n",
       "      <th>weekly_mins_watched</th>\n",
       "      <th>minimum_daily_mins</th>\n",
       "      <th>maximum_daily_mins</th>\n",
       "      <th>weekly_max_night_mins</th>\n",
       "      <th>videos_watched</th>\n",
       "      <th>maximum_days_inactive</th>\n",
       "      <th>customer_support_calls</th>\n",
       "      <th>churn</th>\n",
       "    </tr>\n",
       "  </thead>\n",
       "  <tbody>\n",
       "    <tr>\n",
       "      <th>0</th>\n",
       "      <td>2015</td>\n",
       "      <td>100198</td>\n",
       "      <td>409-8743</td>\n",
       "      <td>Female</td>\n",
       "      <td>36</td>\n",
       "      <td>62</td>\n",
       "      <td>no</td>\n",
       "      <td>no</td>\n",
       "      <td>148.35</td>\n",
       "      <td>12.2</td>\n",
       "      <td>16.81</td>\n",
       "      <td>82</td>\n",
       "      <td>1</td>\n",
       "      <td>4.0</td>\n",
       "      <td>1</td>\n",
       "      <td>0.0</td>\n",
       "    </tr>\n",
       "    <tr>\n",
       "      <th>1</th>\n",
       "      <td>2015</td>\n",
       "      <td>100643</td>\n",
       "      <td>340-5930</td>\n",
       "      <td>Female</td>\n",
       "      <td>39</td>\n",
       "      <td>149</td>\n",
       "      <td>no</td>\n",
       "      <td>no</td>\n",
       "      <td>294.45</td>\n",
       "      <td>7.7</td>\n",
       "      <td>33.37</td>\n",
       "      <td>87</td>\n",
       "      <td>3</td>\n",
       "      <td>3.0</td>\n",
       "      <td>2</td>\n",
       "      <td>0.0</td>\n",
       "    </tr>\n",
       "    <tr>\n",
       "      <th>2</th>\n",
       "      <td>2015</td>\n",
       "      <td>100756</td>\n",
       "      <td>372-3750</td>\n",
       "      <td>Female</td>\n",
       "      <td>65</td>\n",
       "      <td>126</td>\n",
       "      <td>no</td>\n",
       "      <td>no</td>\n",
       "      <td>87.30</td>\n",
       "      <td>11.9</td>\n",
       "      <td>9.89</td>\n",
       "      <td>91</td>\n",
       "      <td>1</td>\n",
       "      <td>4.0</td>\n",
       "      <td>5</td>\n",
       "      <td>1.0</td>\n",
       "    </tr>\n",
       "    <tr>\n",
       "      <th>3</th>\n",
       "      <td>2015</td>\n",
       "      <td>101595</td>\n",
       "      <td>331-4902</td>\n",
       "      <td>Female</td>\n",
       "      <td>24</td>\n",
       "      <td>131</td>\n",
       "      <td>no</td>\n",
       "      <td>yes</td>\n",
       "      <td>321.30</td>\n",
       "      <td>9.5</td>\n",
       "      <td>36.41</td>\n",
       "      <td>102</td>\n",
       "      <td>4</td>\n",
       "      <td>3.0</td>\n",
       "      <td>3</td>\n",
       "      <td>0.0</td>\n",
       "    </tr>\n",
       "    <tr>\n",
       "      <th>4</th>\n",
       "      <td>2015</td>\n",
       "      <td>101653</td>\n",
       "      <td>351-8398</td>\n",
       "      <td>Female</td>\n",
       "      <td>40</td>\n",
       "      <td>191</td>\n",
       "      <td>no</td>\n",
       "      <td>no</td>\n",
       "      <td>243.00</td>\n",
       "      <td>10.9</td>\n",
       "      <td>27.54</td>\n",
       "      <td>83</td>\n",
       "      <td>7</td>\n",
       "      <td>3.0</td>\n",
       "      <td>1</td>\n",
       "      <td>0.0</td>\n",
       "    </tr>\n",
       "  </tbody>\n",
       "</table>\n",
       "</div>"
      ],
      "text/plain": [
       "   year  customer_id  phone_no  gender  age  no_of_days_subscribed  \\\n",
       "0  2015       100198  409-8743  Female   36                     62   \n",
       "1  2015       100643  340-5930  Female   39                    149   \n",
       "2  2015       100756  372-3750  Female   65                    126   \n",
       "3  2015       101595  331-4902  Female   24                    131   \n",
       "4  2015       101653  351-8398  Female   40                    191   \n",
       "\n",
       "  multi_screen mail_subscribed  weekly_mins_watched  minimum_daily_mins  \\\n",
       "0           no              no               148.35                12.2   \n",
       "1           no              no               294.45                 7.7   \n",
       "2           no              no                87.30                11.9   \n",
       "3           no             yes               321.30                 9.5   \n",
       "4           no              no               243.00                10.9   \n",
       "\n",
       "   maximum_daily_mins  weekly_max_night_mins  videos_watched  \\\n",
       "0               16.81                     82               1   \n",
       "1               33.37                     87               3   \n",
       "2                9.89                     91               1   \n",
       "3               36.41                    102               4   \n",
       "4               27.54                     83               7   \n",
       "\n",
       "   maximum_days_inactive  customer_support_calls  churn  \n",
       "0                    4.0                       1    0.0  \n",
       "1                    3.0                       2    0.0  \n",
       "2                    4.0                       5    1.0  \n",
       "3                    3.0                       3    0.0  \n",
       "4                    3.0                       1    0.0  "
      ]
     },
     "execution_count": 4,
     "metadata": {},
     "output_type": "execute_result"
    }
   ],
   "source": [
    "df.head()"
   ]
  },
  {
   "cell_type": "code",
   "execution_count": 77,
   "metadata": {
    "executionInfo": {
     "elapsed": 43,
     "status": "ok",
     "timestamp": 1639980152399,
     "user": {
      "displayName": "Naveen Deepak",
      "photoUrl": "https://lh3.googleusercontent.com/a/default-user=s64",
      "userId": "01554849417447253869"
     },
     "user_tz": -330
    },
    "id": "aS-CI9HI43Og"
   },
   "outputs": [],
   "source": [
    "# Create a tensor using the 'weekly_mins_watched', 'minimum_daily_mins', and 'maximum_daily_mins' features from the dataset\n",
    "x = torch.tensor(df[['weekly_mins_watched', 'minimum_daily_mins', 'maximum_daily_mins']].values)\n"
   ]
  },
  {
   "cell_type": "code",
   "execution_count": 78,
   "metadata": {
    "colab": {
     "base_uri": "https://localhost:8080/"
    },
    "executionInfo": {
     "elapsed": 43,
     "status": "ok",
     "timestamp": 1639980152400,
     "user": {
      "displayName": "Naveen Deepak",
      "photoUrl": "https://lh3.googleusercontent.com/a/default-user=s64",
      "userId": "01554849417447253869"
     },
     "user_tz": -330
    },
    "id": "3UIhuYpqMxQU",
    "outputId": "e01ab631-45fe-4475-e033-1b5eb15354c3"
   },
   "outputs": [
    {
     "data": {
      "text/plain": [
       "torch.Size([2000, 3])"
      ]
     },
     "execution_count": 78,
     "metadata": {},
     "output_type": "execute_result"
    }
   ],
   "source": [
    "# Tensor Shape\n",
    "x.shape"
   ]
  },
  {
   "cell_type": "code",
   "execution_count": 79,
   "metadata": {
    "colab": {
     "base_uri": "https://localhost:8080/"
    },
    "executionInfo": {
     "elapsed": 38,
     "status": "ok",
     "timestamp": 1639980152402,
     "user": {
      "displayName": "Naveen Deepak",
      "photoUrl": "https://lh3.googleusercontent.com/a/default-user=s64",
      "userId": "01554849417447253869"
     },
     "user_tz": -330
    },
    "id": "LtItmQw1M4Ao",
    "outputId": "c3771f22-ac78-446b-df99-2ac1ec3a6a81"
   },
   "outputs": [
    {
     "data": {
      "text/plain": [
       "torch.float64"
      ]
     },
     "execution_count": 79,
     "metadata": {},
     "output_type": "execute_result"
    }
   ],
   "source": [
    "x.dtype"
   ]
  },
  {
   "cell_type": "code",
   "execution_count": 80,
   "metadata": {},
   "outputs": [
    {
     "data": {
      "text/plain": [
       "tensor([[148.3500,  12.2000,  16.8100],\n",
       "        [294.4500,   7.7000,  33.3700],\n",
       "        [ 87.3000,  11.9000,   9.8900],\n",
       "        ...,\n",
       "        [128.8500,  15.6000,  14.6000],\n",
       "        [178.0500,  10.4000,  20.1800],\n",
       "        [326.7000,  10.3000,  37.0300]], dtype=torch.float64)"
      ]
     },
     "execution_count": 80,
     "metadata": {},
     "output_type": "execute_result"
    }
   ],
   "source": [
    "x"
   ]
  },
  {
   "cell_type": "markdown",
   "metadata": {
    "id": "n1c2t7Y-X3Er"
   },
   "source": [
    "## Arithmetic operations"
   ]
  },
  {
   "cell_type": "markdown",
   "metadata": {
    "id": "b8B_8J57X9F2"
   },
   "source": [
    "### Add and Subtract"
   ]
  },
  {
   "cell_type": "code",
   "execution_count": 81,
   "metadata": {
    "colab": {
     "base_uri": "https://localhost:8080/"
    },
    "executionInfo": {
     "elapsed": 32,
     "status": "ok",
     "timestamp": 1639980152403,
     "user": {
      "displayName": "Naveen Deepak",
      "photoUrl": "https://lh3.googleusercontent.com/a/default-user=s64",
      "userId": "01554849417447253869"
     },
     "user_tz": -330
    },
    "id": "_ufx0mRo5Gfe",
    "outputId": "d4053b2b-7a5e-403d-c87b-8d3aec8758fe"
   },
   "outputs": [
    {
     "name": "stdout",
     "output_type": "stream",
     "text": [
      "tensor([[296.7000,  24.4000,  33.6200],\n",
      "        [588.9000,  15.4000,  66.7400],\n",
      "        [174.6000,  23.8000,  19.7800],\n",
      "        ...,\n",
      "        [257.7000,  31.2000,  29.2000],\n",
      "        [356.1000,  20.8000,  40.3600],\n",
      "        [653.4000,  20.6000,  74.0600]], dtype=torch.float64)\n",
      "x2 shape: torch.Size([2000, 3]) \n",
      "\n"
     ]
    }
   ],
   "source": [
    "# Add the tensor 'x' to itself using torch.add\n",
    "x2 = torch.add(x, x)\n",
    "print(x2)\n",
    "print('x2 shape: {} \\n'.format(x2.shape))\n"
   ]
  },
  {
   "cell_type": "code",
   "execution_count": 82,
   "metadata": {},
   "outputs": [
    {
     "name": "stdout",
     "output_type": "stream",
     "text": [
      "tensor([[296.7000,  24.4000,  33.6200],\n",
      "        [588.9000,  15.4000,  66.7400],\n",
      "        [174.6000,  23.8000,  19.7800],\n",
      "        ...,\n",
      "        [257.7000,  31.2000,  29.2000],\n",
      "        [356.1000,  20.8000,  40.3600],\n",
      "        [653.4000,  20.6000,  74.0600]], dtype=torch.float64)\n",
      "x2 shape: torch.Size([2000, 3])\n"
     ]
    }
   ],
   "source": [
    "# Add the tensor 'x' to itself using the '+' operator\n",
    "x2 = x + x\n",
    "print(x2)\n",
    "print('x2 shape: {}'.format(x2.shape))\n"
   ]
  },
  {
   "cell_type": "code",
   "execution_count": 83,
   "metadata": {
    "colab": {
     "base_uri": "https://localhost:8080/"
    },
    "executionInfo": {
     "elapsed": 26,
     "status": "ok",
     "timestamp": 1639980152404,
     "user": {
      "displayName": "Naveen Deepak",
      "photoUrl": "https://lh3.googleusercontent.com/a/default-user=s64",
      "userId": "01554849417447253869"
     },
     "user_tz": -330
    },
    "id": "5Q9OxZX9O1Zu",
    "outputId": "aa20c7df-dbe0-4d67-a257-1e200dde7c81"
   },
   "outputs": [
    {
     "name": "stdout",
     "output_type": "stream",
     "text": [
      "tensor([[0., 0., 0.],\n",
      "        [0., 0., 0.],\n",
      "        [0., 0., 0.],\n",
      "        ...,\n",
      "        [0., 0., 0.],\n",
      "        [0., 0., 0.],\n",
      "        [0., 0., 0.]], dtype=torch.float64)\n",
      "x_2 shape: torch.Size([2000, 3]) \n",
      "\n",
      "tensor([[-148.3500,  -12.2000,  -16.8100],\n",
      "        [-294.4500,   -7.7000,  -33.3700],\n",
      "        [ -87.3000,  -11.9000,   -9.8900],\n",
      "        ...,\n",
      "        [-128.8500,  -15.6000,  -14.6000],\n",
      "        [-178.0500,  -10.4000,  -20.1800],\n",
      "        [-326.7000,  -10.3000,  -37.0300]], dtype=torch.float64)\n",
      "x_2 shape: torch.Size([2000, 3])\n"
     ]
    }
   ],
   "source": [
    "# Subtract the tensor 'x' from itself using torch.subtract\n",
    "x_2 = torch.subtract(x, x)\n",
    "print(x_2)\n",
    "print('x_2 shape: {} \\n'.format(x_2.shape))\n",
    "\n",
    "# Subtract '2 * x' from 'x' using the '-' operator\n",
    "x_2 = x - 2 * x\n",
    "print(x_2)\n",
    "print('x_2 shape: {}'.format(x_2.shape))\n"
   ]
  },
  {
   "cell_type": "markdown",
   "metadata": {
    "id": "iI1xah5PYKGz"
   },
   "source": [
    "### Multiply"
   ]
  },
  {
   "cell_type": "code",
   "execution_count": 84,
   "metadata": {
    "colab": {
     "base_uri": "https://localhost:8080/"
    },
    "executionInfo": {
     "elapsed": 19,
     "status": "ok",
     "timestamp": 1639980152405,
     "user": {
      "displayName": "Naveen Deepak",
      "photoUrl": "https://lh3.googleusercontent.com/a/default-user=s64",
      "userId": "01554849417447253869"
     },
     "user_tz": -330
    },
    "id": "yMXkiwwR5Eui",
    "outputId": "881bed59-d97b-487c-e4f0-38b09c389ab2"
   },
   "outputs": [
    {
     "name": "stdout",
     "output_type": "stream",
     "text": [
      "torch.Size([5, 3])\n"
     ]
    }
   ],
   "source": [
    "# Perform element-wise multiplication on a sliced portion of the tensor 'x'\n",
    "x_mult = x[0:5, :] * x[0:5, :]\n",
    "print(x_mult.shape)\n"
   ]
  },
  {
   "cell_type": "code",
   "execution_count": 85,
   "metadata": {},
   "outputs": [
    {
     "data": {
      "text/plain": [
       "tensor([[2.2008e+04, 1.4884e+02, 2.8258e+02],\n",
       "        [8.6701e+04, 5.9290e+01, 1.1136e+03],\n",
       "        [7.6213e+03, 1.4161e+02, 9.7812e+01],\n",
       "        [1.0323e+05, 9.0250e+01, 1.3257e+03],\n",
       "        [5.9049e+04, 1.1881e+02, 7.5845e+02]], dtype=torch.float64)"
      ]
     },
     "execution_count": 85,
     "metadata": {},
     "output_type": "execute_result"
    }
   ],
   "source": [
    "x_mult"
   ]
  },
  {
   "cell_type": "code",
   "execution_count": 86,
   "metadata": {
    "colab": {
     "base_uri": "https://localhost:8080/"
    },
    "executionInfo": {
     "elapsed": 955,
     "status": "ok",
     "timestamp": 1639980153348,
     "user": {
      "displayName": "Naveen Deepak",
      "photoUrl": "https://lh3.googleusercontent.com/a/default-user=s64",
      "userId": "01554849417447253869"
     },
     "user_tz": -330
    },
    "id": "8SwvKX0ePahC",
    "outputId": "a021e254-df87-4424-a58c-9cf2c1300150",
    "scrolled": true
   },
   "outputs": [
    {
     "name": "stdout",
     "output_type": "stream",
     "text": [
      "torch.Size([5, 5])\n"
     ]
    }
   ],
   "source": [
    "# Matrix multiplication of a sliced portion of the tensor 'x' with its transpose\n",
    "x_matmult = x[0:5, :] @ x[0:5, :].T\n",
    "print(x_matmult.shape)\n",
    "# The result is a 5x5 matrix since you are multiplying a 5x3 tensor by the transpose of a 3x5 tensor.\n"
   ]
  },
  {
   "cell_type": "code",
   "execution_count": 87,
   "metadata": {},
   "outputs": [
    {
     "data": {
      "text/plain": [
       "tensor([[ 22439.1386,  44336.5472,  13262.3859,  48392.8071,  36644.9774],\n",
       "        [ 44336.5472,  87873.6494,  26127.1443,  95894.9367,  72554.2898],\n",
       "        [ 13262.3859,  26127.1443,   7860.7121,  28522.6349,  21615.9806],\n",
       "        [ 48392.8071,  95894.9367,  28522.6349, 104649.6281,  79182.1814],\n",
       "        [ 36644.9774,  72554.2898,  21615.9806,  79182.1814,  59926.2616]],\n",
       "       dtype=torch.float64)"
      ]
     },
     "execution_count": 87,
     "metadata": {},
     "output_type": "execute_result"
    }
   ],
   "source": [
    "x_matmult"
   ]
  },
  {
   "cell_type": "markdown",
   "metadata": {
    "id": "ItfJYFslYZo0"
   },
   "source": [
    "### Trigonometric Operations"
   ]
  },
  {
   "cell_type": "code",
   "execution_count": 88,
   "metadata": {
    "colab": {
     "base_uri": "https://localhost:8080/"
    },
    "executionInfo": {
     "elapsed": 87,
     "status": "ok",
     "timestamp": 1639980153348,
     "user": {
      "displayName": "Naveen Deepak",
      "photoUrl": "https://lh3.googleusercontent.com/a/default-user=s64",
      "userId": "01554849417447253869"
     },
     "user_tz": -330
    },
    "id": "YAHavZBk5NMO",
    "outputId": "912b53ef-195c-4c19-c75b-1f6737118269"
   },
   "outputs": [
    {
     "name": "stdout",
     "output_type": "stream",
     "text": [
      "tensor([[-0.7680,  0.9336, -0.4518],\n",
      "        [ 0.6527,  0.1534, -0.3740],\n",
      "        [ 0.7872,  0.7861, -0.8937],\n",
      "        [ 0.6543, -0.9972,  0.2780],\n",
      "        [-0.4559, -0.0954, -0.7423]], dtype=torch.float64)\n"
     ]
    }
   ],
   "source": [
    "# Compute the cosine (cos) for the first 5 rows of the tensor 'x'\n",
    "x_cos = torch.cos(x[:5, :])\n",
    "print(x_cos)\n"
   ]
  },
  {
   "cell_type": "code",
   "execution_count": 89,
   "metadata": {},
   "outputs": [
    {
     "name": "stdout",
     "output_type": "stream",
     "text": [
      "tensor([[-0.6405, -0.3582, -0.8921],\n",
      "        [-0.7577,  0.9882,  0.9274],\n",
      "        [-0.6167, -0.6181, -0.4486],\n",
      "        [ 0.7562, -0.0752, -0.9606],\n",
      "        [-0.8900, -0.9954,  0.6701]], dtype=torch.float64)\n"
     ]
    }
   ],
   "source": [
    "# Compute the sine (sin) for the first 5 rows of the tensor 'x'\n",
    "x_sin = torch.sin(x[:5, :])\n",
    "print(x_sin)\n"
   ]
  },
  {
   "cell_type": "markdown",
   "metadata": {
    "id": "avnRWoEsYgRP"
   },
   "source": [
    "### Statistics"
   ]
  },
  {
   "cell_type": "code",
   "execution_count": 90,
   "metadata": {
    "colab": {
     "base_uri": "https://localhost:8080/"
    },
    "executionInfo": {
     "elapsed": 79,
     "status": "ok",
     "timestamp": 1639980153349,
     "user": {
      "displayName": "Naveen Deepak",
      "photoUrl": "https://lh3.googleusercontent.com/a/default-user=s64",
      "userId": "01554849417447253869"
     },
     "user_tz": -330
    },
    "id": "EP1phMWc5RR7",
    "outputId": "933eda38-e54c-466e-8f2a-906f1a3948b4"
   },
   "outputs": [
    {
     "name": "stdout",
     "output_type": "stream",
     "text": [
      "tensor([270.1784,  10.1987,  30.6208], dtype=torch.float64)\n"
     ]
    }
   ],
   "source": [
    "# Calculate mean value of the number of weekly_mins_watched and minimum_daily_mins\n",
    "x_mean = x.mean(dim=0)\n",
    "print(x_mean)\n"
   ]
  },
  {
   "cell_type": "code",
   "execution_count": 100,
   "metadata": {
    "colab": {
     "base_uri": "https://localhost:8080/"
    },
    "executionInfo": {
     "elapsed": 72,
     "status": "ok",
     "timestamp": 1639980153350,
     "user": {
      "displayName": "Naveen Deepak",
      "photoUrl": "https://lh3.googleusercontent.com/a/default-user=s64",
      "userId": "01554849417447253869"
     },
     "user_tz": -330
    },
    "id": "awDIW5MTP9NZ",
    "outputId": "412d1cb4-95dd-4146-cf46-365fe78d3ba5"
   },
   "outputs": [
    {
     "name": "stdout",
     "output_type": "stream",
     "text": [
      "torch.return_types.median(\n",
      "values=tensor(1., grad_fn=<MedianBackward1>),\n",
      "indices=tensor(0))\n"
     ]
    }
   ],
   "source": [
    "# Calculate the median value of the number of weekly_mins_watched and minimum_daily_mins\n",
    "x_median = x.median(dim=0)\n",
    "print(x_median)\n"
   ]
  },
  {
   "cell_type": "markdown",
   "metadata": {
    "id": "hmakGma0YrGN"
   },
   "source": [
    "## Functions\n",
    "tensors can be used to create functions"
   ]
  },
  {
   "cell_type": "markdown",
   "metadata": {
    "id": "aESzsovNatOF"
   },
   "source": [
    "### Example 1:\n",
    "$F(x)$ is a function of $x$  \n",
    "$F(x) = x^2 + 2x + 1$"
   ]
  },
  {
   "cell_type": "code",
   "execution_count": 92,
   "metadata": {
    "colab": {
     "base_uri": "https://localhost:8080/"
    },
    "executionInfo": {
     "elapsed": 63,
     "status": "ok",
     "timestamp": 1639980153350,
     "user": {
      "displayName": "Naveen Deepak",
      "photoUrl": "https://lh3.googleusercontent.com/a/default-user=s64",
      "userId": "01554849417447253869"
     },
     "user_tz": -330
    },
    "id": "RtSo3UJKYx8I",
    "outputId": "1608d910-bc22-4b77-9db0-6620889370b0"
   },
   "outputs": [
    {
     "name": "stdout",
     "output_type": "stream",
     "text": [
      "tensor([1., 1., 1., 1., 1., 1.])\n"
     ]
    }
   ],
   "source": [
    "### 1-D tensor\n",
    "x = torch.ones((6))\n",
    "print(x)"
   ]
  },
  {
   "cell_type": "code",
   "execution_count": 93,
   "metadata": {
    "colab": {
     "base_uri": "https://localhost:8080/"
    },
    "executionInfo": {
     "elapsed": 57,
     "status": "ok",
     "timestamp": 1639980153351,
     "user": {
      "displayName": "Naveen Deepak",
      "photoUrl": "https://lh3.googleusercontent.com/a/default-user=s64",
      "userId": "01554849417447253869"
     },
     "user_tz": -330
    },
    "id": "CcVOL_IDZ8mM",
    "outputId": "d36b0b25-ca90-4819-a0e6-fc6e7f970106"
   },
   "outputs": [
    {
     "name": "stdout",
     "output_type": "stream",
     "text": [
      "tensor([4., 4., 4., 4., 4., 4.])\n"
     ]
    }
   ],
   "source": [
    "f = x**2 + 2*x + 1\n",
    "print(f)"
   ]
  },
  {
   "cell_type": "code",
   "execution_count": 94,
   "metadata": {
    "colab": {
     "base_uri": "https://localhost:8080/"
    },
    "executionInfo": {
     "elapsed": 50,
     "status": "ok",
     "timestamp": 1639980153351,
     "user": {
      "displayName": "Naveen Deepak",
      "photoUrl": "https://lh3.googleusercontent.com/a/default-user=s64",
      "userId": "01554849417447253869"
     },
     "user_tz": -330
    },
    "id": "ttZelaNmbydE",
    "outputId": "521020d5-9fb6-4a12-910e-cc12bc42660e"
   },
   "outputs": [
    {
     "name": "stdout",
     "output_type": "stream",
     "text": [
      "tensor([[4., 4.],\n",
      "        [4., 4.],\n",
      "        [4., 4.]])\n"
     ]
    }
   ],
   "source": [
    "### 2-D tensor\n",
    "x = torch.ones((3,2))\n",
    "f = x**2 + 2*x + 1\n",
    "print(f)"
   ]
  },
  {
   "cell_type": "markdown",
   "metadata": {
    "id": "eVUAJ8VjqDKy"
   },
   "source": [
    "### Example 2:\n",
    "$H(x)$ is a function of $F(x)$  \n",
    "$H(x) = 3F(x) + 1$"
   ]
  },
  {
   "cell_type": "code",
   "execution_count": 95,
   "metadata": {
    "colab": {
     "base_uri": "https://localhost:8080/"
    },
    "executionInfo": {
     "elapsed": 44,
     "status": "ok",
     "timestamp": 1639980153352,
     "user": {
      "displayName": "Naveen Deepak",
      "photoUrl": "https://lh3.googleusercontent.com/a/default-user=s64",
      "userId": "01554849417447253869"
     },
     "user_tz": -330
    },
    "id": "fj1sHyHrpmp4",
    "outputId": "a29fd529-dac9-483d-a7b5-b045d1ca7af0"
   },
   "outputs": [
    {
     "name": "stdout",
     "output_type": "stream",
     "text": [
      "tensor([[13., 13.],\n",
      "        [13., 13.],\n",
      "        [13., 13.]])\n"
     ]
    }
   ],
   "source": [
    "h = 3*f + 1\n",
    "print(h)"
   ]
  },
  {
   "cell_type": "markdown",
   "metadata": {
    "id": "eVk-OTDccK54"
   },
   "source": [
    "## Gradients\n",
    "gradients are first order derivates of a function\n"
   ]
  },
  {
   "cell_type": "markdown",
   "metadata": {
    "id": "ILUiF-DEpL_p"
   },
   "source": [
    "### Example 1:\n",
    "$F(x)$ is a function of $x$  \n",
    "$F(x) = x^2 + 2x + 1$  \n",
    "\n",
    "$G(x)$ is the gradient of $F(x)$ with respect to $x$  \n",
    "$G(x) = \\frac{dF(x)}{dx} = 2(x + 1)$  "
   ]
  },
  {
   "cell_type": "code",
   "execution_count": 96,
   "metadata": {
    "colab": {
     "base_uri": "https://localhost:8080/"
    },
    "executionInfo": {
     "elapsed": 38,
     "status": "ok",
     "timestamp": 1639980153353,
     "user": {
      "displayName": "Naveen Deepak",
      "photoUrl": "https://lh3.googleusercontent.com/a/default-user=s64",
      "userId": "01554849417447253869"
     },
     "user_tz": -330
    },
    "id": "w_r99IQs5U2v",
    "outputId": "eac8fc3d-de3b-4682-d283-cb2c080068f7"
   },
   "outputs": [
    {
     "name": "stdout",
     "output_type": "stream",
     "text": [
      "tensor(12.)\n"
     ]
    }
   ],
   "source": [
    "# Create a tensor with gradient tracing enabled\n",
    "# Tensors should be of floating point type to calculate gradients\n",
    "x = torch.tensor(5.0, requires_grad=True)\n",
    "\n",
    "# Define the function f\n",
    "f = x**2 + 2*x + 1\n",
    "\n",
    "# Compute gradients\n",
    "f.backward()\n",
    "\n",
    "# Print the gradient value\n",
    "print(x.grad)\n"
   ]
  },
  {
   "cell_type": "code",
   "execution_count": 97,
   "metadata": {
    "colab": {
     "base_uri": "https://localhost:8080/"
    },
    "executionInfo": {
     "elapsed": 31,
     "status": "ok",
     "timestamp": 1639980153354,
     "user": {
      "displayName": "Naveen Deepak",
      "photoUrl": "https://lh3.googleusercontent.com/a/default-user=s64",
      "userId": "01554849417447253869"
     },
     "user_tz": -330
    },
    "id": "PU7oj7OI5ZUn",
    "outputId": "d21c1b63-713a-4014-a9e6-32f035e24c33"
   },
   "outputs": [
    {
     "name": "stdout",
     "output_type": "stream",
     "text": [
      "tensor([[296.7000,  24.4000],\n",
      "        [588.9000,  15.4000],\n",
      "        [174.6000,  23.8000],\n",
      "        ...,\n",
      "        [257.7000,  31.2000],\n",
      "        [356.1000,  20.8000],\n",
      "        [653.4000,  20.6000]], dtype=torch.float64)\n"
     ]
    }
   ],
   "source": [
    "# Computing gradients with respect to a tensor\n",
    "\n",
    "# Create a tensor using 'weekly_mins_watched' and 'minimum_daily_mins' features from the dataset\n",
    "x = torch.tensor(df[['weekly_mins_watched', 'minimum_daily_mins']].values, requires_grad=True)\n",
    "\n",
    "# Calculate a function of x\n",
    "y = x**2 + 3\n",
    "\n",
    "# Calculate the derivative of y with respect to x\n",
    "y.backward(torch.ones_like(x))\n",
    "\n",
    "# Print the derivative (gradient) values of x\n",
    "print(x.grad)\n"
   ]
  },
  {
   "cell_type": "markdown",
   "metadata": {
    "id": "s2ZqFvqhpa56"
   },
   "source": [
    "### Example 2:"
   ]
  },
  {
   "cell_type": "markdown",
   "metadata": {
    "id": "os7DOG4rpFR7"
   },
   "source": [
    "$F(x)$ is a function of $x$  \n",
    "$F(x) = x^2 + 2x + 1$  \n",
    "\n",
    "$H(x)$ is a function of $F(x)$  \n",
    "$H(x) = F^2(x) + 1$\n",
    "\n",
    "$G(x)$ is the gradient of $H(x)$ with respect to $x$  \n",
    "$G(x) = \\frac{dH(x)}{dx} = 4(x + 1)^3$  "
   ]
  },
  {
   "cell_type": "code",
   "execution_count": 98,
   "metadata": {
    "colab": {
     "base_uri": "https://localhost:8080/"
    },
    "executionInfo": {
     "elapsed": 26,
     "status": "ok",
     "timestamp": 1639980153355,
     "user": {
      "displayName": "Naveen Deepak",
      "photoUrl": "https://lh3.googleusercontent.com/a/default-user=s64",
      "userId": "01554849417447253869"
     },
     "user_tz": -330
    },
    "id": "r4-w9OIYvL7t",
    "outputId": "22178c4b-ead4-4d4c-9d32-fa023e00c931"
   },
   "outputs": [
    {
     "name": "stdout",
     "output_type": "stream",
     "text": [
      "tensor(32.)\n"
     ]
    }
   ],
   "source": [
    "# Create a tensor with gradient tracing enabled\n",
    "x = torch.tensor(1.0, requires_grad=True)\n",
    "\n",
    "# Define functions\n",
    "f = x**2 + 2*x + 1\n",
    "h = f**2 + 1\n",
    "\n",
    "# Compute gradients\n",
    "h.backward()\n",
    "\n",
    "# Print the gradient value\n",
    "print(x.grad)\n"
   ]
  },
  {
   "cell_type": "markdown",
   "metadata": {},
   "source": [
    "- An exhaustive list of tensor features are available at: https://pytorch.org/docs/stable/torch.html\n",
    "\n",
    "---"
   ]
  },
  {
   "cell_type": "markdown",
   "metadata": {},
   "source": []
  }
 ],
 "metadata": {
  "colab": {
   "authorship_tag": "ABX9TyNk6iBhqGCSwK3HLVfDjj0q",
   "collapsed_sections": [
    "LOHJymgGfX7c"
   ],
   "name": "Tensors_Notebook.ipynb",
   "provenance": []
  },
  "kernelspec": {
   "display_name": "Python 3 (ipykernel)",
   "language": "python",
   "name": "python3"
  },
  "language_info": {
   "codemirror_mode": {
    "name": "ipython",
    "version": 3
   },
   "file_extension": ".py",
   "mimetype": "text/x-python",
   "name": "python",
   "nbconvert_exporter": "python",
   "pygments_lexer": "ipython3",
   "version": "3.7.9"
  }
 },
 "nbformat": 4,
 "nbformat_minor": 1
}
